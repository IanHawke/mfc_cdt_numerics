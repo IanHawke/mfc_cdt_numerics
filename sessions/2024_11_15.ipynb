{
 "cells": [
  {
   "cell_type": "markdown",
   "metadata": {},
   "source": [
    "# Live coding for MFC sessions"
   ]
  },
  {
   "cell_type": "markdown",
   "metadata": {},
   "source": [
    "### 15 November 2024"
   ]
  },
  {
   "cell_type": "code",
   "execution_count": null,
   "metadata": {},
   "outputs": [],
   "source": [
    "import numpy as np \n",
    "import matplotlib.pyplot as plt "
   ]
  },
  {
   "cell_type": "code",
   "execution_count": null,
   "metadata": {},
   "outputs": [],
   "source": [
    "nodes = np.loadtxt('../_assignment/data/las_nodes_5k.txt')\n",
    "IEN = np.loadtxt('../_assignment/data/las_IEN_5k.txt', dtype=np.int64)\n",
    "boundary_nodes = np.loadtxt('../_assignment/data/las_bdry_5k.txt', \n",
    "                            dtype=np.int64)\n",
    "\n",
    "plt.triplot(nodes[:,0], nodes[:,1], triangles=IEN)\n",
    "plt.plot(nodes[boundary_nodes, 0], nodes[boundary_nodes, 1], 'ro')\n",
    "plt.plot([442365, 473993], [115483, 171625], 'kx')\n",
    "plt.axis('equal')"
   ]
  },
  {
   "cell_type": "code",
   "execution_count": null,
   "metadata": {},
   "outputs": [],
   "source": [
    "print(len(nodes), len(boundary_nodes), len(IEN))"
   ]
  },
  {
   "cell_type": "code",
   "execution_count": null,
   "metadata": {},
   "outputs": [],
   "source": [
    "nodes = np.array([0, 1/2, 1])\n",
    "K = np.array([[4, -2], [-2, 2.0]])\n",
    "F = np.array([1/4, 1/24])\n",
    "psi = np.zeros(3)\n",
    "psi[1:] = np.linalg.solve(K, F)\n",
    "\n",
    "\n",
    "x = np.linspace(0, 1)\n",
    "plt.plot(x, x*(x**2-3*x+3)/6)\n",
    "plt.plot(nodes, psi, 'kx')\n"
   ]
  },
  {
   "cell_type": "code",
   "execution_count": null,
   "metadata": {},
   "outputs": [],
   "source": []
  }
 ],
 "metadata": {
  "kernelspec": {
   "display_name": "mfc",
   "language": "python",
   "name": "python3"
  },
  "language_info": {
   "codemirror_mode": {
    "name": "ipython",
    "version": 3
   },
   "file_extension": ".py",
   "mimetype": "text/x-python",
   "name": "python",
   "nbconvert_exporter": "python",
   "pygments_lexer": "ipython3",
   "version": "3.12.7"
  }
 },
 "nbformat": 4,
 "nbformat_minor": 2
}
